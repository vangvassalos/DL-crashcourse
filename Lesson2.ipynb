{
  "nbformat": 4,
  "nbformat_minor": 0,
  "metadata": {
    "colab": {
      "name": "Untitled1.ipynb",
      "version": "0.3.2",
      "provenance": [],
      "include_colab_link": true
    },
    "kernelspec": {
      "name": "python3",
      "display_name": "Python 3"
    }
  },
  "cells": [
    {
      "cell_type": "markdown",
      "metadata": {
        "id": "view-in-github",
        "colab_type": "text"
      },
      "source": [
        "<a href=\"https://colab.research.google.com/github/vangvassalos/DL-crashcourse/blob/master/Lesson2.ipynb\" target=\"_parent\"><img src=\"https://colab.research.google.com/assets/colab-badge.svg\" alt=\"Open In Colab\"/></a>"
      ]
    },
    {
      "metadata": {
        "id": "V727G6b4xjIi",
        "colab_type": "text"
      },
      "cell_type": "markdown",
      "source": [
        "\n",
        "\n",
        "```\n",
        "# Lesson 1\n",
        "```\n",
        "\n"
      ]
    },
    {
      "metadata": {
        "id": "wmcma2oExiC6",
        "colab_type": "code",
        "colab": {}
      },
      "cell_type": "code",
      "source": [
        "#import tensorflow as tf\n",
        "#tf.test.gpu_device_name()\n",
        "\n",
        "# example of pixel normalization\n",
        "from numpy import asarray\n",
        "from PIL import Image\n",
        "# load image\n",
        "image = Image.open('bondi_beach.jpg')\n",
        "pixels = asarray(image)\n",
        "# confirm pixel range is 0-255\n",
        "print('Data Type: %s' % pixels.dtype)\n",
        "print('Min: %.3f, Max: %.3f' % (pixels.min(), pixels.max()))\n",
        "# convert from integers to floats\n",
        "pixels = pixels.astype('float32')\n",
        "# normalize to the range 0-1\n",
        "pixels /= 255.0\n",
        "# confirm the normalization\n",
        "print('Min: %.3f, Max: %.3f' % (pixels.min(), pixels.max()))\n",
        "\n"
      ],
      "execution_count": 0,
      "outputs": []
    }
  ]
}