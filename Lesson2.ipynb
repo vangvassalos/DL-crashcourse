{
  "nbformat": 4,
  "nbformat_minor": 0,
  "metadata": {
    "colab": {
      "name": "Lesson2.ipynb",
      "version": "0.3.2",
      "provenance": [],
      "include_colab_link": true
    },
    "kernelspec": {
      "name": "python3",
      "display_name": "Python 3"
    }
  },
  "cells": [
    {
      "cell_type": "markdown",
      "metadata": {
        "id": "view-in-github",
        "colab_type": "text"
      },
      "source": [
        "<a href=\"https://colab.research.google.com/github/vangvassalos/DL-crashcourse/blob/master/Lesson2.ipynb\" target=\"_parent\"><img src=\"https://colab.research.google.com/assets/colab-badge.svg\" alt=\"Open In Colab\"/></a>"
      ]
    },
    {
      "metadata": {
        "id": "6xulK3cN0mkf",
        "colab_type": "text"
      },
      "cell_type": "markdown",
      "source": [
        "# **Lesson 02: Preparing Image Data**\n",
        "\n",
        "\n",
        "In this lesson, you will discover how to prepare image data for modeling. Images are comprised\n",
        "of matrices of pixel values. Pixel values are often unsigned integers in the range between 0 and 255.\n",
        "\n",
        "Although these pixel values can be presented directly to neural network models in their\n",
        "raw format, this can result in challenges during modeling, such as slower than expected training\n",
        "of the model.\n",
        "Instead, there can be great benefit in preparing the image pixel values prior to modeling,\n",
        "such as simply scaling pixel values to the range 0-1 to centering and even standardizing the\n",
        "values. This is called normalization and can be performed directly on a loaded image. The\n",
        "example below uses the PIL library (the standard image handling library in Python) to load an\n",
        "image and normalize its pixel values. First, confirm that you have the Pillow library installed;\n",
        "it is installed with most SciPy environments, but you can learn more here: [PIL/Pillow Installation Instructions](https://pillow.readthedocs.io/en/stable/installation.html).\n",
        "\n",
        "Next, download a photograph of Bondi Beach in Sydney Australia, taken by Isabell Schulz\n",
        "and released under a permissive license. Save the image in your current working directory with\n",
        "the filename bondi beach.jpg.\n",
        "[Download a Photograph of Bondi Beach (bondi beach.jpg)](https://machinelearningmastery.com/wp-content/uploads/2019/01/bondi_beach.jpg).\n",
        "\n",
        "Next, we can use the Pillow library to load the photo, confirm the min and max pixel values,\n",
        "normalize the values, and confirm the normalization was performed.\n",
        "\n",
        "### **Your Task**\n",
        "Your task in this lesson is to run the example code on the provided photograph and report the\n",
        "min and max pixel values before and after the normalization. For bonus points, you can update\n",
        "the example to standardize the pixel values. Post your findings online. I would love to see what\n",
        "you can come up with.\n",
        "Next\n",
        "In the next lesson, you will discover information about convolutional neural network models."
      ]
    },
    {
      "metadata": {
        "id": "wmcma2oExiC6",
        "colab_type": "code",
        "outputId": "21d2cbc7-634d-4bae-9697-7aad5f129d06",
        "colab": {
          "base_uri": "https://localhost:8080/",
          "height": 119
        }
      },
      "cell_type": "code",
      "source": [
        "#import tensorflow as tf\n",
        "#tf.test.gpu_device_name()\n",
        "\n",
        "# example of pixel normalization\n",
        "from numpy import asarray\n",
        "from PIL import Image\n",
        "# load image\n",
        "\n",
        "image = Image.open('/content/gdrive/My Drive/DL/bondi_beach.jpg')\n",
        "pixels = asarray(image)\n",
        "# confirm pixel range is 0-255\n",
        "print('Data Type: %s' % pixels.dtype)\n",
        "print('Min: %.3f, Max: %.3f' % (pixels.min(), pixels.max()))\n",
        "# convert from integers to floats\n",
        "pixels = pixels.astype('float32')\n",
        "# normalize to the range 0-1\n",
        "norm_pixels = pixels/255.0\n",
        "std_pixels=pixels - pixels.mean()\n",
        "# confirm the normalization\n",
        "print('Min: %.3f, Max: %.3f' % (norm_pixels.min(), norm_pixels.max()))\n",
        "print('norm Mean: %.3f' % (norm_pixels.mean()))\n",
        "print('Min: %.3f, Max: %.3f' % (std_pixels.min(), std_pixels.max()))\n",
        "print('std Mean: %.3f' % (std_pixels.mean()))\n",
        "\n",
        "\n"
      ],
      "execution_count": 0,
      "outputs": [
        {
          "output_type": "stream",
          "text": [
            "Data Type: uint8\n",
            "Min: 0.000, Max: 255.000\n",
            "Min: 0.000, Max: 1.000\n",
            "norm Mean: 0.610\n",
            "Min: -155.531, Max: 99.469\n",
            "std Mean: 0.000\n"
          ],
          "name": "stdout"
        }
      ]
    }
  ]
}